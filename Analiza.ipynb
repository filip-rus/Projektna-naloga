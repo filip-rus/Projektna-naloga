{
 "cells": [
  {
   "cell_type": "markdown",
   "metadata": {},
   "source": [
    "# Analiza letalskih nesreč zadnjih stotih let\n",
    "Najprej si poglejmo glavno tabelo zajetih podatkov. Ta vključuje informacije od prve zabeležene letalske nesreče v zgodovini pa do zadnje leta 2018."
   ]
  },
  {
   "cell_type": "code",
   "execution_count": 1,
   "metadata": {},
   "outputs": [
    {
     "data": {
      "text/html": [
       "<div>\n",
       "<style scoped>\n",
       "    .dataframe tbody tr th:only-of-type {\n",
       "        vertical-align: middle;\n",
       "    }\n",
       "\n",
       "    .dataframe tbody tr th {\n",
       "        vertical-align: top;\n",
       "    }\n",
       "\n",
       "    .dataframe thead th {\n",
       "        text-align: right;\n",
       "    }\n",
       "</style>\n",
       "<table border=\"1\" class=\"dataframe\">\n",
       "  <thead>\n",
       "    <tr style=\"text-align: right;\">\n",
       "      <th></th>\n",
       "      <th>datum</th>\n",
       "      <th>kraj</th>\n",
       "      <th>družbe</th>\n",
       "      <th>model</th>\n",
       "      <th>registracija</th>\n",
       "      <th>žrtve/potniki(na tleh)</th>\n",
       "    </tr>\n",
       "  </thead>\n",
       "  <tbody>\n",
       "    <tr>\n",
       "      <th>0</th>\n",
       "      <td>17 Sep 1908</td>\n",
       "      <td>Fort Myer, Virginia</td>\n",
       "      <td>Military - U.S. Army</td>\n",
       "      <td>Wright Flyer III</td>\n",
       "      <td>?</td>\n",
       "      <td>1/2(0)</td>\n",
       "    </tr>\n",
       "    <tr>\n",
       "      <th>1</th>\n",
       "      <td>07 Sep 1909</td>\n",
       "      <td>Juvisy-sur-Orge, France</td>\n",
       "      <td>?</td>\n",
       "      <td>Wright Byplane</td>\n",
       "      <td>SC1</td>\n",
       "      <td>1/1(0)</td>\n",
       "    </tr>\n",
       "    <tr>\n",
       "      <th>2</th>\n",
       "      <td>12 Jul 1912</td>\n",
       "      <td>Atlantic City, New Jersey</td>\n",
       "      <td>Military - U.S. Navy</td>\n",
       "      <td>Dirigible</td>\n",
       "      <td>?</td>\n",
       "      <td>5/5(0)</td>\n",
       "    </tr>\n",
       "    <tr>\n",
       "      <th>3</th>\n",
       "      <td>06 Aug 1913</td>\n",
       "      <td>Victoria, British Columbia, Canada</td>\n",
       "      <td>Private</td>\n",
       "      <td>Curtiss seaplane</td>\n",
       "      <td>?</td>\n",
       "      <td>1/1(0)</td>\n",
       "    </tr>\n",
       "    <tr>\n",
       "      <th>4</th>\n",
       "      <td>09 Sep 1913</td>\n",
       "      <td>Over the North Sea</td>\n",
       "      <td>Military - German Navy</td>\n",
       "      <td>Zeppelin L-1 (airship)</td>\n",
       "      <td>?</td>\n",
       "      <td>14/20(0)</td>\n",
       "    </tr>\n",
       "    <tr>\n",
       "      <th>...</th>\n",
       "      <td>...</td>\n",
       "      <td>...</td>\n",
       "      <td>...</td>\n",
       "      <td>...</td>\n",
       "      <td>...</td>\n",
       "      <td>...</td>\n",
       "    </tr>\n",
       "    <tr>\n",
       "      <th>4899</th>\n",
       "      <td>10 Jul 2018</td>\n",
       "      <td>Pretoria, South Africa</td>\n",
       "      <td>Rovos Air</td>\n",
       "      <td>Convair CV-340</td>\n",
       "      <td>ZS-BRV</td>\n",
       "      <td>1/19(1)</td>\n",
       "    </tr>\n",
       "    <tr>\n",
       "      <th>4900</th>\n",
       "      <td>04 Aug 2018</td>\n",
       "      <td>Flims, Switzerland</td>\n",
       "      <td>Ju Air</td>\n",
       "      <td>Junkers JU-52</td>\n",
       "      <td>HB-HOT</td>\n",
       "      <td>20/20(1)</td>\n",
       "    </tr>\n",
       "    <tr>\n",
       "      <th>4901</th>\n",
       "      <td>28 Sep 2018</td>\n",
       "      <td>Chuuk, Micronesia</td>\n",
       "      <td>Air Niugini</td>\n",
       "      <td>Boeing 737-8BK</td>\n",
       "      <td>P2-PXE</td>\n",
       "      <td>1/47(0)</td>\n",
       "    </tr>\n",
       "    <tr>\n",
       "      <th>4902</th>\n",
       "      <td>29 Oct 2018</td>\n",
       "      <td>Off Jakarta, Indonesia</td>\n",
       "      <td>Lion Air</td>\n",
       "      <td>Boeing 737-MAX 8</td>\n",
       "      <td>PK-LQP</td>\n",
       "      <td>189/189(0)</td>\n",
       "    </tr>\n",
       "    <tr>\n",
       "      <th>4903</th>\n",
       "      <td>06 Nov 2018</td>\n",
       "      <td>Georgetown, Guyana</td>\n",
       "      <td>Fly Jamaica Airways</td>\n",
       "      <td>Boeing 757-N23</td>\n",
       "      <td>N524AT</td>\n",
       "      <td>1/128(0)</td>\n",
       "    </tr>\n",
       "  </tbody>\n",
       "</table>\n",
       "<p>4904 rows × 6 columns</p>\n",
       "</div>"
      ],
      "text/plain": [
       "            datum                                kraj                  družbe  \\\n",
       "0     17 Sep 1908                 Fort Myer, Virginia    Military - U.S. Army   \n",
       "1     07 Sep 1909             Juvisy-sur-Orge, France                       ?   \n",
       "2     12 Jul 1912           Atlantic City, New Jersey    Military - U.S. Navy   \n",
       "3     06 Aug 1913  Victoria, British Columbia, Canada                 Private   \n",
       "4     09 Sep 1913                  Over the North Sea  Military - German Navy   \n",
       "...           ...                                 ...                     ...   \n",
       "4899  10 Jul 2018              Pretoria, South Africa               Rovos Air   \n",
       "4900  04 Aug 2018                  Flims, Switzerland                  Ju Air   \n",
       "4901  28 Sep 2018                   Chuuk, Micronesia             Air Niugini   \n",
       "4902  29 Oct 2018              Off Jakarta, Indonesia                Lion Air   \n",
       "4903  06 Nov 2018                  Georgetown, Guyana     Fly Jamaica Airways   \n",
       "\n",
       "                       model registracija žrtve/potniki(na tleh)  \n",
       "0           Wright Flyer III            ?                 1/2(0)  \n",
       "1             Wright Byplane          SC1                 1/1(0)  \n",
       "2                  Dirigible            ?                 5/5(0)  \n",
       "3           Curtiss seaplane            ?                 1/1(0)  \n",
       "4     Zeppelin L-1 (airship)            ?               14/20(0)  \n",
       "...                      ...          ...                    ...  \n",
       "4899          Convair CV-340       ZS-BRV                1/19(1)  \n",
       "4900           Junkers JU-52       HB-HOT               20/20(1)  \n",
       "4901          Boeing 737-8BK       P2-PXE                1/47(0)  \n",
       "4902        Boeing 737-MAX 8       PK-LQP             189/189(0)  \n",
       "4903          Boeing 757-N23      N524AT                1/128(0)  \n",
       "\n",
       "[4904 rows x 6 columns]"
      ]
     },
     "execution_count": 1,
     "metadata": {},
     "output_type": "execute_result"
    }
   ],
   "source": [
    "import pandas as pd\n",
    "nesreče = pd.read_csv('vsi.csv')\n",
    "pd.options.display.max_rows = 20\n",
    "nesreče"
   ]
  },
  {
   "cell_type": "markdown",
   "metadata": {},
   "source": [
    "S pomožno tabelo umrlih in potnikov si oglejmo nekaj zanimivih dejstev."
   ]
  },
  {
   "cell_type": "code",
   "execution_count": 2,
   "metadata": {},
   "outputs": [
    {
     "data": {
      "text/plain": [
       "stevilo mrtvih    109625\n",
       "potniki           152419\n",
       "dtype: int64"
      ]
     },
     "execution_count": 2,
     "metadata": {},
     "output_type": "execute_result"
    }
   ],
   "source": [
    "umrli_lepo = pd.read_csv(\"brez_tal.csv\")\n",
    "umrli_lepo.sum() #dobimo število vseh umrlih in potnikov na pripadajočih letih "
   ]
  },
  {
   "cell_type": "code",
   "execution_count": 3,
   "metadata": {},
   "outputs": [
    {
     "data": {
      "text/plain": [
       "'42794 preživelih'"
      ]
     },
     "execution_count": 3,
     "metadata": {},
     "output_type": "execute_result"
    }
   ],
   "source": [
    "str(umrli_lepo[\"potniki\"].sum() - umrli_lepo[\"stevilo mrtvih\"].sum())+ \" preživelih\" #preživeli"
   ]
  },
  {
   "cell_type": "code",
   "execution_count": 4,
   "metadata": {},
   "outputs": [
    {
     "data": {
      "text/plain": [
       "'82 %'"
      ]
     },
     "execution_count": 4,
     "metadata": {},
     "output_type": "execute_result"
    }
   ],
   "source": [
    "#povprečen odstotek umrlih\n",
    "povprečje = round((umrli_lepo[\"stevilo mrtvih\"] / umrli_lepo[\"potniki\"]*100).mean())\n",
    "str(povprečje) + \" %\""
   ]
  },
  {
   "cell_type": "code",
   "execution_count": 5,
   "metadata": {},
   "outputs": [
    {
     "data": {
      "text/html": [
       "<div>\n",
       "<style scoped>\n",
       "    .dataframe tbody tr th:only-of-type {\n",
       "        vertical-align: middle;\n",
       "    }\n",
       "\n",
       "    .dataframe tbody tr th {\n",
       "        vertical-align: top;\n",
       "    }\n",
       "\n",
       "    .dataframe thead th {\n",
       "        text-align: right;\n",
       "    }\n",
       "</style>\n",
       "<table border=\"1\" class=\"dataframe\">\n",
       "  <thead>\n",
       "    <tr style=\"text-align: right;\">\n",
       "      <th></th>\n",
       "      <th>datum</th>\n",
       "      <th>kraj</th>\n",
       "      <th>družbe</th>\n",
       "      <th>model</th>\n",
       "      <th>registracija</th>\n",
       "      <th>stevilo mrtvih</th>\n",
       "      <th>potniki</th>\n",
       "    </tr>\n",
       "  </thead>\n",
       "  <tbody>\n",
       "    <tr>\n",
       "      <th>2831</th>\n",
       "      <td>27 Mar 1977</td>\n",
       "      <td>Tenerife, Canary Islands</td>\n",
       "      <td>Pan American World Airways / KLM</td>\n",
       "      <td>Boeing B-747-121 / Boeing B-747-206B</td>\n",
       "      <td>N736PA/PH-BUF</td>\n",
       "      <td>583</td>\n",
       "      <td>644</td>\n",
       "    </tr>\n",
       "    <tr>\n",
       "      <th>3270</th>\n",
       "      <td>12 Aug 1985</td>\n",
       "      <td>Mt. Osutaka, near Ueno Village, Japan</td>\n",
       "      <td>Japan Air Lines</td>\n",
       "      <td>Boeing B-747-SR46</td>\n",
       "      <td>JA8119</td>\n",
       "      <td>520</td>\n",
       "      <td>524</td>\n",
       "    </tr>\n",
       "    <tr>\n",
       "      <th>3985</th>\n",
       "      <td>12 Nov 1996</td>\n",
       "      <td>Near Charkhi Dadri, India</td>\n",
       "      <td>Saudi Arabian Airlines / Kazakhstan Airlines</td>\n",
       "      <td>Boeing B-747-168B / Ilyushin IL-76TD</td>\n",
       "      <td>HZ-AIH/UN-76435</td>\n",
       "      <td>349</td>\n",
       "      <td>349</td>\n",
       "    </tr>\n",
       "    <tr>\n",
       "      <th>2666</th>\n",
       "      <td>03 Mar 1974</td>\n",
       "      <td>Near Ermenonville, France</td>\n",
       "      <td>Turkish Airlines (THY)</td>\n",
       "      <td>McDonnell Douglas DC-10-10</td>\n",
       "      <td>TC-JAV</td>\n",
       "      <td>346</td>\n",
       "      <td>346</td>\n",
       "    </tr>\n",
       "    <tr>\n",
       "      <th>3266</th>\n",
       "      <td>23 Jun 1985</td>\n",
       "      <td>Atlantic Ocean, 110 miles West of Ireland</td>\n",
       "      <td>Air India</td>\n",
       "      <td>Boeing B-747-237B</td>\n",
       "      <td>VT-EFO</td>\n",
       "      <td>329</td>\n",
       "      <td>329</td>\n",
       "    </tr>\n",
       "    <tr>\n",
       "      <th>3022</th>\n",
       "      <td>19 Aug 1980</td>\n",
       "      <td>Riyadh, Saudi Arabia</td>\n",
       "      <td>Saudi Arabian Airlines</td>\n",
       "      <td>Lockheed 1011-200 TriStar</td>\n",
       "      <td>HZ-AHK</td>\n",
       "      <td>301</td>\n",
       "      <td>301</td>\n",
       "    </tr>\n",
       "    <tr>\n",
       "      <th>4822</th>\n",
       "      <td>17 Jul 2014</td>\n",
       "      <td>Hrabove, Ukraine</td>\n",
       "      <td>Malaysia Airlines</td>\n",
       "      <td>Boeing 777-2H6ER</td>\n",
       "      <td>9M-MRD</td>\n",
       "      <td>298</td>\n",
       "      <td>298</td>\n",
       "    </tr>\n",
       "    <tr>\n",
       "      <th>3428</th>\n",
       "      <td>03 Jul 1988</td>\n",
       "      <td>Over the Persian Gulf, near Bandar Abbas, Iran</td>\n",
       "      <td>Iran Air</td>\n",
       "      <td>Airbus A300B2-203</td>\n",
       "      <td>EP-IBU</td>\n",
       "      <td>290</td>\n",
       "      <td>290</td>\n",
       "    </tr>\n",
       "    <tr>\n",
       "      <th>4361</th>\n",
       "      <td>19 Feb 2003</td>\n",
       "      <td>Near Shahdad, Iran</td>\n",
       "      <td>Military - Islamic Revolution's Guards Corps</td>\n",
       "      <td>Ilyushin Il-76MD</td>\n",
       "      <td>15-22</td>\n",
       "      <td>275</td>\n",
       "      <td>275</td>\n",
       "    </tr>\n",
       "    <tr>\n",
       "      <th>2953</th>\n",
       "      <td>25 May 1979</td>\n",
       "      <td>Chicago O'Hare, Illinois</td>\n",
       "      <td>American Airlines</td>\n",
       "      <td>McDonnell Douglas DC-10-10</td>\n",
       "      <td>N110AA</td>\n",
       "      <td>271</td>\n",
       "      <td>271</td>\n",
       "    </tr>\n",
       "  </tbody>\n",
       "</table>\n",
       "</div>"
      ],
      "text/plain": [
       "            datum                                            kraj  \\\n",
       "2831  27 Mar 1977                        Tenerife, Canary Islands   \n",
       "3270  12 Aug 1985           Mt. Osutaka, near Ueno Village, Japan   \n",
       "3985  12 Nov 1996                       Near Charkhi Dadri, India   \n",
       "2666  03 Mar 1974                       Near Ermenonville, France   \n",
       "3266  23 Jun 1985       Atlantic Ocean, 110 miles West of Ireland   \n",
       "3022  19 Aug 1980                            Riyadh, Saudi Arabia   \n",
       "4822  17 Jul 2014                                Hrabove, Ukraine   \n",
       "3428  03 Jul 1988  Over the Persian Gulf, near Bandar Abbas, Iran   \n",
       "4361  19 Feb 2003                              Near Shahdad, Iran   \n",
       "2953  25 May 1979                        Chicago O'Hare, Illinois   \n",
       "\n",
       "                                            družbe  \\\n",
       "2831              Pan American World Airways / KLM   \n",
       "3270                               Japan Air Lines   \n",
       "3985  Saudi Arabian Airlines / Kazakhstan Airlines   \n",
       "2666                        Turkish Airlines (THY)   \n",
       "3266                                     Air India   \n",
       "3022                        Saudi Arabian Airlines   \n",
       "4822                             Malaysia Airlines   \n",
       "3428                                      Iran Air   \n",
       "4361  Military - Islamic Revolution's Guards Corps   \n",
       "2953                             American Airlines   \n",
       "\n",
       "                                     model     registracija  stevilo mrtvih  \\\n",
       "2831  Boeing B-747-121 / Boeing B-747-206B    N736PA/PH-BUF             583   \n",
       "3270                     Boeing B-747-SR46           JA8119             520   \n",
       "3985  Boeing B-747-168B / Ilyushin IL-76TD  HZ-AIH/UN-76435             349   \n",
       "2666            McDonnell Douglas DC-10-10           TC-JAV             346   \n",
       "3266                     Boeing B-747-237B           VT-EFO             329   \n",
       "3022             Lockheed 1011-200 TriStar           HZ-AHK             301   \n",
       "4822                      Boeing 777-2H6ER           9M-MRD             298   \n",
       "3428                     Airbus A300B2-203           EP-IBU             290   \n",
       "4361                      Ilyushin Il-76MD            15-22             275   \n",
       "2953            McDonnell Douglas DC-10-10           N110AA             271   \n",
       "\n",
       "      potniki  \n",
       "2831      644  \n",
       "3270      524  \n",
       "3985      349  \n",
       "2666      346  \n",
       "3266      329  \n",
       "3022      301  \n",
       "4822      298  \n",
       "3428      290  \n",
       "4361      275  \n",
       "2953      271  "
      ]
     },
     "execution_count": 5,
     "metadata": {},
     "output_type": "execute_result"
    }
   ],
   "source": [
    "#pogledamo najhujše nesreče v zgodovini\n",
    "vse_umrli = nesreče.drop([\"žrtve/potniki(na tleh)\"], axis = 1).merge(umrli_lepo,left_index=True, right_index=True)\n",
    "vse_umrli.sort_values([\"stevilo mrtvih\"], ascending = False).head(10)"
   ]
  },
  {
   "cell_type": "markdown",
   "metadata": {},
   "source": [
    "Poglejmo si še najbolj \"srečno\" nesrečo. Tu se osredotočimo na tisto nesrečo v kateri je umrl vsaj en človek, a je bilo razmerje umrlih z ostalimi potniki najmanjše."
   ]
  },
  {
   "cell_type": "code",
   "execution_count": 6,
   "metadata": {},
   "outputs": [
    {
     "data": {
      "text/plain": [
       "4147    0.193424\n",
       "4053    0.254453\n",
       "2662    0.335570\n",
       "4201    0.335570\n",
       "3863    0.341297\n",
       "dtype: float64"
      ]
     },
     "execution_count": 6,
     "metadata": {},
     "output_type": "execute_result"
    }
   ],
   "source": [
    "vsaj_en = vse_umrli[vse_umrli[\"stevilo mrtvih\"] >= 1]\n",
    "((vsaj_en[\"stevilo mrtvih\"] / vsaj_en[\"potniki\"]) * 100).sort_values().head(5)"
   ]
  },
  {
   "cell_type": "code",
   "execution_count": 7,
   "metadata": {},
   "outputs": [
    {
     "data": {
      "text/html": [
       "<div>\n",
       "<style scoped>\n",
       "    .dataframe tbody tr th:only-of-type {\n",
       "        vertical-align: middle;\n",
       "    }\n",
       "\n",
       "    .dataframe tbody tr th {\n",
       "        vertical-align: top;\n",
       "    }\n",
       "\n",
       "    .dataframe thead th {\n",
       "        text-align: right;\n",
       "    }\n",
       "</style>\n",
       "<table border=\"1\" class=\"dataframe\">\n",
       "  <thead>\n",
       "    <tr style=\"text-align: right;\">\n",
       "      <th></th>\n",
       "      <th>datum</th>\n",
       "      <th>kraj</th>\n",
       "      <th>družbe</th>\n",
       "      <th>model</th>\n",
       "      <th>registracija</th>\n",
       "      <th>stevilo mrtvih</th>\n",
       "      <th>potniki</th>\n",
       "    </tr>\n",
       "  </thead>\n",
       "  <tbody>\n",
       "    <tr>\n",
       "      <th>4147</th>\n",
       "      <td>23 Jul 1999</td>\n",
       "      <td>Tokyo, Japan</td>\n",
       "      <td>All Nippon Airways</td>\n",
       "      <td>Boeing B-747</td>\n",
       "      <td>JA8966</td>\n",
       "      <td>1</td>\n",
       "      <td>517</td>\n",
       "    </tr>\n",
       "  </tbody>\n",
       "</table>\n",
       "</div>"
      ],
      "text/plain": [
       "            datum          kraj              družbe         model  \\\n",
       "4147  23 Jul 1999  Tokyo, Japan  All Nippon Airways  Boeing B-747   \n",
       "\n",
       "     registracija  stevilo mrtvih  potniki  \n",
       "4147       JA8966               1      517  "
      ]
     },
     "execution_count": 7,
     "metadata": {},
     "output_type": "execute_result"
    }
   ],
   "source": [
    "# pogledamo kateri let se skriva za id-jem\n",
    "vsaj_en.loc[[4147]]"
   ]
  },
  {
   "cell_type": "markdown",
   "metadata": {},
   "source": [
    "V mnogih delih sveta ljudje vidijo petek trinajsti kot nesrečen datum. Ali ta strah drži kaj vode? Preverimo koliko nesreč se je zgodilo ravno takrat."
   ]
  },
  {
   "cell_type": "code",
   "execution_count": 8,
   "metadata": {},
   "outputs": [
    {
     "data": {
      "text/plain": [
       "'19 ujemanj'"
      ]
     },
     "execution_count": 8,
     "metadata": {},
     "output_type": "execute_result"
    }
   ],
   "source": [
    "#uvozimo datotekov vseh petkov trinajstih zadnij 100 let\n",
    "petek = pd.read_csv(\"petek_13.csv\") \n",
    "#pogledamo, kje se te datumi ujemajo z nesrečami\n",
    "presek = pd.merge(left=nesreče,right=petek, left_on='datum', right_on='datum')\n",
    "#pogledamo število \n",
    "str(len(presek)) + \" ujemanj\""
   ]
  },
  {
   "cell_type": "markdown",
   "metadata": {},
   "source": [
    "Z malo brskanja po internetu ugotovimo, da je od prve zabeležene nesreče pa do zadnje minilo 40227 dni. V tem času je bilo zabeleženih 4904 nesreč. Kvocient številk nam pove, da je verjetnost da se na poljuben dan zgodi nesreča približno 12%. Če pomnožimo to število s številom vseh petkov trinajstih v tem času vidimo, da je statistično pričakovana številka nesreč 20, kar se ujema z dobljenim rezultatom. Lahko zaključimo, da je strah (vsaj z vidika letalskih nesreč) iracionalen."
   ]
  },
  {
   "cell_type": "markdown",
   "metadata": {},
   "source": [
    "Nad izidom smo precej razočarani, zato posežemo v druge kulture. Na Kitajskem obstaja strah pred številko štiri. Ja ta kaj bolj utemeljen?"
   ]
  },
  {
   "cell_type": "code",
   "execution_count": 9,
   "metadata": {},
   "outputs": [
    {
     "data": {
      "text/plain": [
       "'18 ujemanj'"
      ]
     },
     "execution_count": 9,
     "metadata": {},
     "output_type": "execute_result"
    }
   ],
   "source": [
    "#uvozimo tabelo vseh 4. aprilov od leta 1920\n",
    "kitajci = pd.read_csv(\"kitajci.csv\")\n",
    "#pogledamo ujemanja\n",
    "presek_2 = pd.merge(left=nesreče,right=kitajci, left_on='datum', right_on='datum')\n",
    "str(len(presek_2)) + \" ujemanj\""
   ]
  },
  {
   "cell_type": "markdown",
   "metadata": {},
   "source": [
    "Po prej opisanem postopku ugotovimo, da je pričakovana številka 13, torej hipoteze še ne moremo ovreči."
   ]
  },
  {
   "cell_type": "markdown",
   "metadata": {},
   "source": [
    "Osredotočimo se še na države kjer so se zgodile nesreče."
   ]
  },
  {
   "cell_type": "code",
   "execution_count": 10,
   "metadata": {},
   "outputs": [
    {
     "data": {
      "text/plain": [
       "država\n",
       "United States of America    880\n",
       "Russia                      252\n",
       "Brazil                      171\n",
       "Colombia                    148\n",
       "France                      125\n",
       "Canada                      122\n",
       "England                     101\n",
       "India                       100\n",
       "Indonesia                    97\n",
       "China                        94\n",
       "Italy                        85\n",
       "Mexico                       80\n",
       "Germany                      77\n",
       "Philippines                  70\n",
       "USSR                         67\n",
       "Australia                    63\n",
       "Spain                        58\n",
       "Peru                         53\n",
       "Venezuela                    53\n",
       "Bolivia                      46\n",
       "dtype: int64"
      ]
     },
     "execution_count": 10,
     "metadata": {},
     "output_type": "execute_result"
    }
   ],
   "source": [
    "# uvozimo datoteko, ki vsebuje samo države nesreč\n",
    "države = pd.read_csv(\"samo_države.csv\")\n",
    "#države damo v grupo\n",
    "države_grupirano = države.groupby(\"država\")\n",
    "#pogledamo, kje se je zgodilo največ nesreč\n",
    "vrh = države_grupirano.size().sort_values(ascending = False).head(20)\n",
    "vrh"
   ]
  },
  {
   "cell_type": "markdown",
   "metadata": {},
   "source": [
    "Rezultat ni presenetljiv saj se ujema z gostoto letalskega prometa držav."
   ]
  },
  {
   "cell_type": "code",
   "execution_count": 11,
   "metadata": {},
   "outputs": [
    {
     "data": {
      "text/plain": [
       "<AxesSubplot:xlabel='država'>"
      ]
     },
     "execution_count": 11,
     "metadata": {},
     "output_type": "execute_result"
    },
    {
     "data": {
      "image/png": "[encoded data removed]",
      "text/plain": [
       "<Figure size 432x288 with 1 Axes>"
      ]
     },
     "metadata": {
      "needs_background": "light"
     },
     "output_type": "display_data"
    }
   ],
   "source": [
    "#izdelamo stolpični diagram\n",
    "%matplotlib inline\n",
    "države_grupirano.size().sort_values().tail(20).plot.bar()"
   ]
  },
  {
   "cell_type": "markdown",
   "metadata": {},
   "source": [
    "Poglejmo še v katerih državah ni bilo nesreč."
   ]
  },
  {
   "cell_type": "code",
   "execution_count": 12,
   "metadata": {
    "scrolled": true
   },
   "outputs": [
    {
     "data": {
      "text/html": [
       "<div>\n",
       "<style scoped>\n",
       "    .dataframe tbody tr th:only-of-type {\n",
       "        vertical-align: middle;\n",
       "    }\n",
       "\n",
       "    .dataframe tbody tr th {\n",
       "        vertical-align: top;\n",
       "    }\n",
       "\n",
       "    .dataframe thead th {\n",
       "        text-align: right;\n",
       "    }\n",
       "</style>\n",
       "<table border=\"1\" class=\"dataframe\">\n",
       "  <thead>\n",
       "    <tr style=\"text-align: right;\">\n",
       "      <th></th>\n",
       "      <th>Država</th>\n",
       "    </tr>\n",
       "  </thead>\n",
       "  <tbody>\n",
       "    <tr>\n",
       "      <th>3</th>\n",
       "      <td>American Samoa</td>\n",
       "    </tr>\n",
       "    <tr>\n",
       "      <th>4</th>\n",
       "      <td>Andorra</td>\n",
       "    </tr>\n",
       "    <tr>\n",
       "      <th>6</th>\n",
       "      <td>Anguilla</td>\n",
       "    </tr>\n",
       "    <tr>\n",
       "      <th>11</th>\n",
       "      <td>Aruba</td>\n",
       "    </tr>\n",
       "    <tr>\n",
       "      <th>19</th>\n",
       "      <td>Belarus</td>\n",
       "    </tr>\n",
       "    <tr>\n",
       "      <th>21</th>\n",
       "      <td>Belize</td>\n",
       "    </tr>\n",
       "    <tr>\n",
       "      <th>28</th>\n",
       "      <td>Bouvet Island</td>\n",
       "    </tr>\n",
       "    <tr>\n",
       "      <th>30</th>\n",
       "      <td>British Indian Ocean Territory</td>\n",
       "    </tr>\n",
       "    <tr>\n",
       "      <th>33</th>\n",
       "      <td>Burkina Faso</td>\n",
       "    </tr>\n",
       "    <tr>\n",
       "      <th>34</th>\n",
       "      <td>Burundi</td>\n",
       "    </tr>\n",
       "    <tr>\n",
       "      <th>39</th>\n",
       "      <td>Cayman Islands</td>\n",
       "    </tr>\n",
       "    <tr>\n",
       "      <th>44</th>\n",
       "      <td>Christmas Island</td>\n",
       "    </tr>\n",
       "    <tr>\n",
       "      <th>45</th>\n",
       "      <td>Cocos (Keeling) Islands</td>\n",
       "    </tr>\n",
       "    <tr>\n",
       "      <th>59</th>\n",
       "      <td>Dominica</td>\n",
       "    </tr>\n",
       "    <tr>\n",
       "      <th>69</th>\n",
       "      <td>Falkland Islands</td>\n",
       "    </tr>\n",
       "    <tr>\n",
       "      <th>70</th>\n",
       "      <td>Faroe Islands</td>\n",
       "    </tr>\n",
       "    <tr>\n",
       "      <th>74</th>\n",
       "      <td>French Guiana</td>\n",
       "    </tr>\n",
       "    <tr>\n",
       "      <th>76</th>\n",
       "      <td>French Southern Territories</td>\n",
       "    </tr>\n",
       "    <tr>\n",
       "      <th>85</th>\n",
       "      <td>Grenada</td>\n",
       "    </tr>\n",
       "    <tr>\n",
       "      <th>90</th>\n",
       "      <td>Guinea-bissau</td>\n",
       "    </tr>\n",
       "    <tr>\n",
       "      <th>93</th>\n",
       "      <td>Heard Island And Mcdonald Islands</td>\n",
       "    </tr>\n",
       "    <tr>\n",
       "      <th>94</th>\n",
       "      <td>Holy See (Vatican City State)</td>\n",
       "    </tr>\n",
       "    <tr>\n",
       "      <th>104</th>\n",
       "      <td>Israel</td>\n",
       "    </tr>\n",
       "    <tr>\n",
       "      <th>111</th>\n",
       "      <td>Kiribati</td>\n",
       "    </tr>\n",
       "    <tr>\n",
       "      <th>120</th>\n",
       "      <td>Libyan Arab Jamahiriya</td>\n",
       "    </tr>\n",
       "    <tr>\n",
       "      <th>121</th>\n",
       "      <td>Liechtenstein</td>\n",
       "    </tr>\n",
       "    <tr>\n",
       "      <th>122</th>\n",
       "      <td>Lithuania</td>\n",
       "    </tr>\n",
       "    <tr>\n",
       "      <th>124</th>\n",
       "      <td>Macau</td>\n",
       "    </tr>\n",
       "    <tr>\n",
       "      <th>129</th>\n",
       "      <td>Maldives</td>\n",
       "    </tr>\n",
       "    <tr>\n",
       "      <th>135</th>\n",
       "      <td>Mauritius</td>\n",
       "    </tr>\n",
       "    <tr>\n",
       "      <th>136</th>\n",
       "      <td>Mayotte</td>\n",
       "    </tr>\n",
       "    <tr>\n",
       "      <th>138</th>\n",
       "      <td>Federated States Of Micronesia</td>\n",
       "    </tr>\n",
       "    <tr>\n",
       "      <th>140</th>\n",
       "      <td>Monaco</td>\n",
       "    </tr>\n",
       "    <tr>\n",
       "      <th>142</th>\n",
       "      <td>Montserrat</td>\n",
       "    </tr>\n",
       "    <tr>\n",
       "      <th>143</th>\n",
       "      <td>Montenegro</td>\n",
       "    </tr>\n",
       "    <tr>\n",
       "      <th>148</th>\n",
       "      <td>Nauru</td>\n",
       "    </tr>\n",
       "    <tr>\n",
       "      <th>157</th>\n",
       "      <td>Niue</td>\n",
       "    </tr>\n",
       "    <tr>\n",
       "      <th>158</th>\n",
       "      <td>Norfolk Island</td>\n",
       "    </tr>\n",
       "    <tr>\n",
       "      <th>159</th>\n",
       "      <td>Northern Mariana Islands</td>\n",
       "    </tr>\n",
       "    <tr>\n",
       "      <th>163</th>\n",
       "      <td>Palau</td>\n",
       "    </tr>\n",
       "    <tr>\n",
       "      <th>164</th>\n",
       "      <td>Palestinian Territory</td>\n",
       "    </tr>\n",
       "    <tr>\n",
       "      <th>170</th>\n",
       "      <td>Pitcairn</td>\n",
       "    </tr>\n",
       "    <tr>\n",
       "      <th>178</th>\n",
       "      <td>Saint Helena</td>\n",
       "    </tr>\n",
       "    <tr>\n",
       "      <th>179</th>\n",
       "      <td>Saint Kitts And Nevis</td>\n",
       "    </tr>\n",
       "    <tr>\n",
       "      <th>180</th>\n",
       "      <td>Saint Lucia</td>\n",
       "    </tr>\n",
       "    <tr>\n",
       "      <th>181</th>\n",
       "      <td>Saint Pierre And Miquelon</td>\n",
       "    </tr>\n",
       "    <tr>\n",
       "      <th>182</th>\n",
       "      <td>Saint Vincent And The Grenadines</td>\n",
       "    </tr>\n",
       "    <tr>\n",
       "      <th>183</th>\n",
       "      <td>Merican Samoa</td>\n",
       "    </tr>\n",
       "    <tr>\n",
       "      <th>184</th>\n",
       "      <td>San Marino</td>\n",
       "    </tr>\n",
       "    <tr>\n",
       "      <th>185</th>\n",
       "      <td>Sao Tome And Principe</td>\n",
       "    </tr>\n",
       "    <tr>\n",
       "      <th>188</th>\n",
       "      <td>Serbia</td>\n",
       "    </tr>\n",
       "    <tr>\n",
       "      <th>189</th>\n",
       "      <td>Seychelles</td>\n",
       "    </tr>\n",
       "    <tr>\n",
       "      <th>197</th>\n",
       "      <td>South Georgia And The South Sandwich Islands</td>\n",
       "    </tr>\n",
       "    <tr>\n",
       "      <th>203</th>\n",
       "      <td>Swaziland</td>\n",
       "    </tr>\n",
       "    <tr>\n",
       "      <th>206</th>\n",
       "      <td>Syrian Arab Republic</td>\n",
       "    </tr>\n",
       "    <tr>\n",
       "      <th>211</th>\n",
       "      <td>Togo</td>\n",
       "    </tr>\n",
       "    <tr>\n",
       "      <th>212</th>\n",
       "      <td>Tokelau</td>\n",
       "    </tr>\n",
       "    <tr>\n",
       "      <th>213</th>\n",
       "      <td>Tonga</td>\n",
       "    </tr>\n",
       "    <tr>\n",
       "      <th>214</th>\n",
       "      <td>Trinidad And Tobago</td>\n",
       "    </tr>\n",
       "    <tr>\n",
       "      <th>218</th>\n",
       "      <td>Turks And Caicos Islands</td>\n",
       "    </tr>\n",
       "    <tr>\n",
       "      <th>219</th>\n",
       "      <td>Tuvalu</td>\n",
       "    </tr>\n",
       "    <tr>\n",
       "      <th>225</th>\n",
       "      <td>United States Minor Outlying Islands</td>\n",
       "    </tr>\n",
       "    <tr>\n",
       "      <th>233</th>\n",
       "      <td>Wallis And Futuna</td>\n",
       "    </tr>\n",
       "    <tr>\n",
       "      <th>234</th>\n",
       "      <td>Western Sahara</td>\n",
       "    </tr>\n",
       "  </tbody>\n",
       "</table>\n",
       "</div>"
      ],
      "text/plain": [
       "                                           Država\n",
       "3                                  American Samoa\n",
       "4                                         Andorra\n",
       "6                                        Anguilla\n",
       "11                                          Aruba\n",
       "19                                        Belarus\n",
       "21                                         Belize\n",
       "28                                  Bouvet Island\n",
       "30                 British Indian Ocean Territory\n",
       "33                                   Burkina Faso\n",
       "34                                        Burundi\n",
       "39                                 Cayman Islands\n",
       "44                               Christmas Island\n",
       "45                        Cocos (Keeling) Islands\n",
       "59                                       Dominica\n",
       "69                               Falkland Islands\n",
       "70                                  Faroe Islands\n",
       "74                                  French Guiana\n",
       "76                    French Southern Territories\n",
       "85                                        Grenada\n",
       "90                                  Guinea-bissau\n",
       "93              Heard Island And Mcdonald Islands\n",
       "94                  Holy See (Vatican City State)\n",
       "104                                        Israel\n",
       "111                                      Kiribati\n",
       "120                        Libyan Arab Jamahiriya\n",
       "121                                 Liechtenstein\n",
       "122                                     Lithuania\n",
       "124                                         Macau\n",
       "129                                      Maldives\n",
       "135                                     Mauritius\n",
       "136                                       Mayotte\n",
       "138                Federated States Of Micronesia\n",
       "140                                        Monaco\n",
       "142                                    Montserrat\n",
       "143                                    Montenegro\n",
       "148                                         Nauru\n",
       "157                                          Niue\n",
       "158                                Norfolk Island\n",
       "159                      Northern Mariana Islands\n",
       "163                                         Palau\n",
       "164                         Palestinian Territory\n",
       "170                                      Pitcairn\n",
       "178                                  Saint Helena\n",
       "179                         Saint Kitts And Nevis\n",
       "180                                   Saint Lucia\n",
       "181                     Saint Pierre And Miquelon\n",
       "182              Saint Vincent And The Grenadines\n",
       "183                                 Merican Samoa\n",
       "184                                    San Marino\n",
       "185                         Sao Tome And Principe\n",
       "188                                        Serbia\n",
       "189                                    Seychelles\n",
       "197  South Georgia And The South Sandwich Islands\n",
       "203                                     Swaziland\n",
       "206                          Syrian Arab Republic\n",
       "211                                          Togo\n",
       "212                                       Tokelau\n",
       "213                                         Tonga\n",
       "214                           Trinidad And Tobago\n",
       "218                      Turks And Caicos Islands\n",
       "219                                        Tuvalu\n",
       "225          United States Minor Outlying Islands\n",
       "233                             Wallis And Futuna\n",
       "234                                Western Sahara"
      ]
     },
     "execution_count": 12,
     "metadata": {},
     "output_type": "execute_result"
    }
   ],
   "source": [
    "pd.options.display.max_rows = None\n",
    "#uvozimo datoteko z vsemi državami sveta\n",
    "države_sveta = pd.read_csv(\"svet.csv\")\n",
    "#izločimo države v katerih se je zgodila nesreča\n",
    "države_sveta[~države_sveta.Država.isin(države.država)].dropna()"
   ]
  },
  {
   "cell_type": "markdown",
   "metadata": {},
   "source": [
    "Morda nas države kot so Črna Gora, Srbija ali pa Belorusija na prvi hip presenetijo, ampak gre seveda za ozemlja, ki so bila še nedavno del večje državne tvorbe (Jugoslavija, Sovjetska Zveza)."
   ]
  },
  {
   "cell_type": "markdown",
   "metadata": {},
   "source": [
    "Katere letalske družbe so odgovorne za največ nesreč?"
   ]
  },
  {
   "cell_type": "code",
   "execution_count": 13,
   "metadata": {},
   "outputs": [
    {
     "data": {
      "text/plain": [
       "družba\n",
       "Aeroflot                               253\n",
       "Military - U.S. Air Force              138\n",
       "Air France                              72\n",
       "Deutsche Lufthansa                      63\n",
       "China National Aviation Corporation     43\n",
       "Military - U.S. Army Air Forces         43\n",
       "United Air Lines                        40\n",
       "Pan American World Airways              40\n",
       "US Aerial Mail Service                  35\n",
       "American Airlines                       35\n",
       "KLM Royal Dutch Airlines                34\n",
       "Philippine Air Lines                    33\n",
       "Indian Airlines                         33\n",
       "Military - Royal Air Force              32\n",
       "Private                                 29\n",
       "British Overseas Airways                28\n",
       "Military - U.S. Navy                    28\n",
       "Military - U.S. Army                    27\n",
       "Northwest Orient Airlines               25\n",
       "Aeropostale                             24\n",
       "dtype: int64"
      ]
     },
     "execution_count": 13,
     "metadata": {},
     "output_type": "execute_result"
    }
   ],
   "source": [
    "#uvozimo datoteko z družbami\n",
    "družbe = pd.read_csv(\"družba.csv\")\n",
    "#grupiramo po družbah\n",
    "družbe_grupirano = družbe.groupby(\"družba\")\n",
    "#pogledamo ekstreme\n",
    "družbe_grupirano.size().sort_values(ascending = False).head(20)"
   ]
  },
  {
   "cell_type": "code",
   "execution_count": 14,
   "metadata": {},
   "outputs": [
    {
     "data": {
      "text/plain": [
       "<AxesSubplot:xlabel='družba'>"
      ]
     },
     "execution_count": 14,
     "metadata": {},
     "output_type": "execute_result"
    },
    {
     "data": {
      "image/png": "[encoded data removed]",
      "text/plain": [
       "<Figure size 432x288 with 1 Axes>"
      ]
     },
     "metadata": {
      "needs_background": "light"
     },
     "output_type": "display_data"
    }
   ],
   "source": [
    "#izdelamo diagram\n",
    "%matplotlib inline\n",
    "družbe_grupirano.size().sort_values().tail(20).plot.bar()"
   ]
  },
  {
   "cell_type": "markdown",
   "metadata": {},
   "source": [
    "Ali število nesreč pada z leti?"
   ]
  },
  {
   "cell_type": "code",
   "execution_count": 15,
   "metadata": {},
   "outputs": [
    {
     "data": {
      "text/plain": [
       "leto\n",
       "1946    88\n",
       "1989    83\n",
       "1947    82\n",
       "1962    78\n",
       "1948    77\n",
       "1972    77\n",
       "1951    75\n",
       "1994    74\n",
       "1945    74\n",
       "1970    73\n",
       "dtype: int64"
      ]
     },
     "execution_count": 15,
     "metadata": {},
     "output_type": "execute_result"
    }
   ],
   "source": [
    "#uvozimo datoteko samo z leti\n",
    "leta = pd.read_csv(\"leto.csv\")\n",
    "#ustvarimo grupo let\n",
    "leta_grupirano = leta.groupby(\"leto\")\n",
    "#pogledamo maksimume\n",
    "največ = leta_grupirano.size().sort_values(ascending = False).head(10)\n",
    "največ"
   ]
  },
  {
   "cell_type": "code",
   "execution_count": 16,
   "metadata": {},
   "outputs": [
    {
     "data": {
      "text/plain": [
       "<AxesSubplot:xlabel='leto'>"
      ]
     },
     "execution_count": 16,
     "metadata": {},
     "output_type": "execute_result"
    },
    {
     "data": {
      "image/png": "[encoded data removed]",
      "text/plain": [
       "<Figure size 432x288 with 1 Axes>"
      ]
     },
     "metadata": {
      "needs_background": "light"
     },
     "output_type": "display_data"
    }
   ],
   "source": [
    "#ustvarimo diagram\n",
    "leta_grupirano.size().plot()"
   ]
  },
  {
   "cell_type": "markdown",
   "metadata": {},
   "source": [
    "Kljub nekolikšnemu dvigu začetka devetdesetih vidimo, da je število nesreč v zadnjih desetih letih močno padlo."
   ]
  },
  {
   "cell_type": "markdown",
   "metadata": {},
   "source": [
    "Ali letala skozi čas postajajo bolj varna? Poglejmo, če povprečno razmerje umrlih potnikov z vsemi pada."
   ]
  },
  {
   "cell_type": "code",
   "execution_count": 17,
   "metadata": {},
   "outputs": [
    {
     "data": {
      "text/plain": [
       "<AxesSubplot:xlabel='leto'>"
      ]
     },
     "execution_count": 17,
     "metadata": {},
     "output_type": "execute_result"
    },
    {
     "data": {
      "image/png": "[encoded data removed]",
      "text/plain": [
       "<Figure size 432x288 with 1 Axes>"
      ]
     },
     "metadata": {
      "needs_background": "light"
     },
     "output_type": "display_data"
    }
   ],
   "source": [
    "#združimo datoteko, ki vsebuje samo leta nesreč z tisto, ki vsebuje žrtve in potnike\n",
    "oba = leta.merge(umrli_lepo,left_index=True, right_index=True)\n",
    "#dodamo stolpec razmerja umrlih z vsemi potniki v procentih\n",
    "oba[\"razmerje\"] = oba[\"stevilo mrtvih\"] / oba[\"potniki\"] * 100\n",
    "#izpustimo zdaj nepotrebna stolpca, saj rabimo samo razmerje\n",
    "razmerje = oba.drop([\"stevilo mrtvih\", \"potniki\"], axis = 1)\n",
    "#grupiramo po letu\n",
    "oba_grupirano = razmerje.groupby(\"leto\")\n",
    "#prikažemo graf povprečja za vsako leto\n",
    "oba_grupirano.mean().plot()"
   ]
  },
  {
   "cell_type": "markdown",
   "metadata": {},
   "source": [
    "Vidimo da povprečje skozi čas ostaja precej visoko."
   ]
  },
  {
   "cell_type": "markdown",
   "metadata": {},
   "source": [
    "V katerih mesecih so nesreče najpogostejše?"
   ]
  },
  {
   "cell_type": "code",
   "execution_count": 18,
   "metadata": {},
   "outputs": [
    {
     "data": {
      "image/png": "[encoded data removed]",
      "text/plain": [
       "<Figure size 432x288 with 1 Axes>"
      ]
     },
     "metadata": {
      "needs_background": "light"
     },
     "output_type": "display_data"
    }
   ],
   "source": [
    "#uvozimo datoteko samo z meseci\n",
    "meseci = pd.read_csv(\"mesec.csv\")\n",
    "#ustvarimo grupo mesecev\n",
    "meseci_grupirano = meseci.groupby(\"mesec\")\n",
    "#pogledamo maksimume\n",
    "največ = meseci_grupirano.size().sort_values().plot.bar()"
   ]
  },
  {
   "cell_type": "markdown",
   "metadata": {},
   "source": [
    "Tradicionalno sta [Avgust in Julij](https://www.airport-technology.com/news/busiest-day-for-air-travel/) poleg Decembra meseca, ko z letalom potuje največ ljudi. Se ta statistika odraža tudi v letih, ko je prišlo do nesreče? "
   ]
  },
  {
   "cell_type": "code",
   "execution_count": 19,
   "metadata": {},
   "outputs": [
    {
     "data": {
      "text/plain": [
       "<AxesSubplot:xlabel='mesec'>"
      ]
     },
     "execution_count": 19,
     "metadata": {},
     "output_type": "execute_result"
    },
    {
     "data": {
      "image/png": "[encoded data removed]",
      "text/plain": [
       "<Figure size 432x288 with 1 Axes>"
      ]
     },
     "metadata": {
      "needs_background": "light"
     },
     "output_type": "display_data"
    }
   ],
   "source": [
    "#združimo tabelo potnikov in mescev\n",
    "skupaj_potniki_mesec = meseci.merge(umrli_lepo.potniki,left_index=True, right_index=True)\n",
    "#grupa mesecev\n",
    "skupaj_potniki_mesec_grup = skupaj_potniki_mesec.groupby(\"mesec\")\n",
    "#graf števila potnikov vsak mesec\n",
    "skupaj_potniki_mesec_grup.sum().sort_values(\"potniki\").plot.bar()"
   ]
  },
  {
   "cell_type": "markdown",
   "metadata": {},
   "source": [
    "Opazimo podoben trend tudi pri letih pri katerih je prišlo do nesreče."
   ]
  }
 ],
 "metadata": {
  "kernelspec": {
   "display_name": "Python 3",
   "language": "python",
   "name": "python3"
  },
  "language_info": {
   "codemirror_mode": {
    "name": "ipython",
    "version": 3
   },
   "file_extension": ".py",
   "mimetype": "text/x-python",
   "name": "python",
   "nbconvert_exporter": "python",
   "pygments_lexer": "ipython3",
   "version": "3.9.1"
  }
 },
 "nbformat": 4,
 "nbformat_minor": 4
}
